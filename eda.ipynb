{
 "cells": [
  {
   "cell_type": "code",
   "execution_count": 12,
   "id": "19d6da5a",
   "metadata": {},
   "outputs": [
    {
     "data": {
      "text/plain": [
       "'/home/maxjo/Projects/Bamboo_kaggle'"
      ]
     },
     "execution_count": 12,
     "metadata": {},
     "output_type": "execute_result"
    }
   ],
   "source": [
    "import os\n",
    "import csv\n",
    "from collections import Counter\n",
    "\n",
    "os.getcwd()"
   ]
  },
  {
   "cell_type": "code",
   "execution_count": 19,
   "id": "2c0ed98b",
   "metadata": {},
   "outputs": [],
   "source": [
    "with open('./datasets/train.csv', encoding='utf-8') as f:\n",
    "    csv_reader = csv.DictReader(f)\n",
    "    train_data = list(csv_reader)\n",
    "\n",
    "train_data_fname, train_data_label = zip(*( (d['filename'], d['label']) for d in train_data ))\n",
    "\n",
    "with open('./datasets/test.csv', encoding='utf-8') as f:\n",
    "    csv_reader = csv.DictReader(f)\n",
    "    test_data = list(csv_reader)\n",
    "\n",
    "test_data_fname = [d['filename'] for d in test_data]"
   ]
  },
  {
   "cell_type": "code",
   "execution_count": 20,
   "id": "d5571050",
   "metadata": {},
   "outputs": [
    {
     "data": {
      "text/plain": [
       "(5199, 1300)"
      ]
     },
     "execution_count": 20,
     "metadata": {},
     "output_type": "execute_result"
    }
   ],
   "source": [
    "len(train_data_fname), len(test_data_fname)"
   ]
  },
  {
   "cell_type": "code",
   "execution_count": 15,
   "id": "3ffa7d02",
   "metadata": {},
   "outputs": [
    {
     "name": "stdout",
     "output_type": "stream",
     "text": [
      "75\n",
      "[('MOURNING CLOAK', 105), ('SLEEPY ORANGE', 85), ('ATALA', 80), ('BROWN SIPROETA', 79), ('MILBERTS TORTOISESHELL', 77), ('CRECENT', 77), ('ORANGE TIP', 77), ('BANDED ORANGE HELICONIAN', 77), ('SCARCE SWALLOW', 77), ('RED CRACKER', 77)]\n"
     ]
    }
   ],
   "source": [
    "butterfly_counts = Counter(train_data_label)\n",
    "\n",
    "print(len(butterfly_counts))\n",
    "print(butterfly_counts.most_common(10))"
   ]
  },
  {
   "cell_type": "code",
   "execution_count": 22,
   "id": "aafc8829",
   "metadata": {},
   "outputs": [
    {
     "data": {
      "text/plain": [
       "Counter({'MOURNING CLOAK': 105,\n",
       "         'SLEEPY ORANGE': 85,\n",
       "         'ATALA': 80,\n",
       "         'BROWN SIPROETA': 79,\n",
       "         'MILBERTS TORTOISESHELL': 77,\n",
       "         'CRECENT': 77,\n",
       "         'ORANGE TIP': 77,\n",
       "         'BANDED ORANGE HELICONIAN': 77,\n",
       "         'SCARCE SWALLOW': 77,\n",
       "         'RED CRACKER': 77,\n",
       "         'EASTERN PINE ELFIN': 76,\n",
       "         'CHECQUERED SKIPPER': 76,\n",
       "         'IPHICLUS SISTER': 76,\n",
       "         'GREAT JAY': 75,\n",
       "         'DANAID EGGFLY': 75,\n",
       "         'COPPER TAIL': 75,\n",
       "         'CLEOPATRA': 74,\n",
       "         'EASTERN COMA': 74,\n",
       "         'PURPLISH COPPER': 74,\n",
       "         'EASTERN DAPPLE WHITE': 74,\n",
       "         'CLOUDED SULPHUR': 74,\n",
       "         'PAPER KITE': 72,\n",
       "         'APPOLLO': 72,\n",
       "         'CABBAGE WHITE': 72,\n",
       "         'SOOTYWING': 72,\n",
       "         'COMMON WOOD-NYMPH': 72,\n",
       "         'MONARCH': 72,\n",
       "         'RED POSTMAN': 71,\n",
       "         'MANGROVE SKIPPER': 70,\n",
       "         'STRAITED QUEEN': 70,\n",
       "         'CLODIUS PARNASSIAN': 70,\n",
       "         'ADONIS': 70,\n",
       "         'ORANGE OAKLEAF': 70,\n",
       "         'GREEN CELLED CATTLEHEART': 70,\n",
       "         'SOUTHERN DOGFACE': 70,\n",
       "         'COMMON BANDED AWL': 70,\n",
       "         'BLUE SPOTTED CROW': 69,\n",
       "         'PINE WHITE': 69,\n",
       "         'RED SPOTTED PURPLE': 69,\n",
       "         'GREY HAIRSTREAK': 69,\n",
       "         'MESTRA': 69,\n",
       "         'AN 88': 68,\n",
       "         'BLACK HAIRSTREAK': 68,\n",
       "         'CHESTNUT': 68,\n",
       "         'POPINJAY': 68,\n",
       "         'ULYSES': 67,\n",
       "         'PEACOCK': 67,\n",
       "         'PIPEVINE SWALLOW': 67,\n",
       "         'TROPICAL LEAFWING': 66,\n",
       "         'BANDED PEACOCK': 66,\n",
       "         'ELBOWED PIERROT': 66,\n",
       "         'RED ADMIRAL': 66,\n",
       "         'SILVER SPOT SKIPPER': 66,\n",
       "         'CAIRNS BIRDWING': 66,\n",
       "         'VICEROY': 65,\n",
       "         'BECKERS WHITE': 65,\n",
       "         'LARGE MARBLE': 65,\n",
       "         'INDRA SWALLOW': 65,\n",
       "         'JULIA': 65,\n",
       "         'PURPLE HAIRSTREAK': 63,\n",
       "         'PAINTED LADY': 62,\n",
       "         'GREAT EGGFLY': 62,\n",
       "         'QUESTION MARK': 62,\n",
       "         'TWO BARRED FLASHER': 61,\n",
       "         'ORCHARD SWALLOW': 61,\n",
       "         'METALMARK': 61,\n",
       "         'ZEBRA LONG WING': 61,\n",
       "         'AFRICAN GIANT SWALLOWTAIL': 60,\n",
       "         'YELLOW SWALLOW TAIL': 60,\n",
       "         'BLUE MORPHO': 60,\n",
       "         'AMERICAN SNOOT': 59,\n",
       "         'CRIMSON PATCH': 58,\n",
       "         'GOLD BANDED': 58,\n",
       "         'MALACHITE': 58,\n",
       "         'WOOD SATYR': 57})"
      ]
     },
     "metadata": {},
     "output_type": "display_data"
    }
   ],
   "source": [
    "display(butterfly_counts)"
   ]
  },
  {
   "cell_type": "code",
   "execution_count": null,
   "id": "3d93aad1",
   "metadata": {},
   "outputs": [],
   "source": []
  }
 ],
 "metadata": {
  "kernelspec": {
   "display_name": ".venv",
   "language": "python",
   "name": "python3"
  },
  "language_info": {
   "codemirror_mode": {
    "name": "ipython",
    "version": 3
   },
   "file_extension": ".py",
   "mimetype": "text/x-python",
   "name": "python",
   "nbconvert_exporter": "python",
   "pygments_lexer": "ipython3",
   "version": "3.13.3"
  }
 },
 "nbformat": 4,
 "nbformat_minor": 5
}
